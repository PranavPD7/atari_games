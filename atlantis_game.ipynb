{
  "cells": [
    {
      "cell_type": "markdown",
      "metadata": {
        "id": "view-in-github",
        "colab_type": "text"
      },
      "source": [
        "<a href=\"https://colab.research.google.com/github/PranavPD7/atari_games/blob/main/atlantis_game.ipynb\" target=\"_parent\"><img src=\"https://colab.research.google.com/assets/colab-badge.svg\" alt=\"Open In Colab\"/></a>"
      ]
    },
    {
      "cell_type": "markdown",
      "source": [
        "# game of atlantis"
      ],
      "metadata": {
        "id": "EAiHVEoWHy_D"
      }
    },
    {
      "cell_type": "markdown",
      "source": [
        "## Part 0 - Installing the required packages and importing the libraries"
      ],
      "metadata": {
        "id": "tjO1aK3Ddjs5"
      }
    },
    {
      "cell_type": "markdown",
      "source": [
        "### Installing Gymnasium"
      ],
      "metadata": {
        "id": "NwdRB-ZLdrAV"
      }
    },
    {
      "cell_type": "code",
      "execution_count": 1,
      "metadata": {
        "id": "dbnq3XpoKa_7",
        "colab": {
          "base_uri": "https://localhost:8080/"
        },
        "outputId": "042dd83d-ec93-4b5c-86b9-1ed964a836df"
      },
      "outputs": [
        {
          "output_type": "stream",
          "name": "stdout",
          "text": [
            "Collecting gymnasium\n",
            "  Downloading gymnasium-0.29.1-py3-none-any.whl.metadata (10 kB)\n",
            "Requirement already satisfied: numpy>=1.21.0 in /usr/local/lib/python3.10/dist-packages (from gymnasium) (1.26.4)\n",
            "Requirement already satisfied: cloudpickle>=1.2.0 in /usr/local/lib/python3.10/dist-packages (from gymnasium) (2.2.1)\n",
            "Requirement already satisfied: typing-extensions>=4.3.0 in /usr/local/lib/python3.10/dist-packages (from gymnasium) (4.12.2)\n",
            "Collecting farama-notifications>=0.0.1 (from gymnasium)\n",
            "  Downloading Farama_Notifications-0.0.4-py3-none-any.whl.metadata (558 bytes)\n",
            "Downloading gymnasium-0.29.1-py3-none-any.whl (953 kB)\n",
            "\u001b[2K   \u001b[90m━━━━━━━━━━━━━━━━━━━━━━━━━━━━━━━━━━━━━━━━\u001b[0m \u001b[32m953.9/953.9 kB\u001b[0m \u001b[31m41.2 MB/s\u001b[0m eta \u001b[36m0:00:00\u001b[0m\n",
            "\u001b[?25hDownloading Farama_Notifications-0.0.4-py3-none-any.whl (2.5 kB)\n",
            "Installing collected packages: farama-notifications, gymnasium\n",
            "Successfully installed farama-notifications-0.0.4 gymnasium-0.29.1\n",
            "Requirement already satisfied: gymnasium[accept-rom-license,atari] in /usr/local/lib/python3.10/dist-packages (0.29.1)\n",
            "Requirement already satisfied: numpy>=1.21.0 in /usr/local/lib/python3.10/dist-packages (from gymnasium[accept-rom-license,atari]) (1.26.4)\n",
            "Requirement already satisfied: cloudpickle>=1.2.0 in /usr/local/lib/python3.10/dist-packages (from gymnasium[accept-rom-license,atari]) (2.2.1)\n",
            "Requirement already satisfied: typing-extensions>=4.3.0 in /usr/local/lib/python3.10/dist-packages (from gymnasium[accept-rom-license,atari]) (4.12.2)\n",
            "Requirement already satisfied: farama-notifications>=0.0.1 in /usr/local/lib/python3.10/dist-packages (from gymnasium[accept-rom-license,atari]) (0.0.4)\n",
            "Collecting shimmy<1.0,>=0.1.0 (from shimmy[atari]<1.0,>=0.1.0; extra == \"atari\"->gymnasium[accept-rom-license,atari])\n",
            "  Downloading Shimmy-0.2.1-py3-none-any.whl.metadata (2.3 kB)\n",
            "Collecting autorom~=0.4.2 (from autorom[accept-rom-license]~=0.4.2; extra == \"accept-rom-license\"->gymnasium[accept-rom-license,atari])\n",
            "  Downloading AutoROM-0.4.2-py3-none-any.whl.metadata (2.8 kB)\n",
            "Requirement already satisfied: click in /usr/local/lib/python3.10/dist-packages (from autorom~=0.4.2->autorom[accept-rom-license]~=0.4.2; extra == \"accept-rom-license\"->gymnasium[accept-rom-license,atari]) (8.1.7)\n",
            "Requirement already satisfied: requests in /usr/local/lib/python3.10/dist-packages (from autorom~=0.4.2->autorom[accept-rom-license]~=0.4.2; extra == \"accept-rom-license\"->gymnasium[accept-rom-license,atari]) (2.32.3)\n",
            "Requirement already satisfied: tqdm in /usr/local/lib/python3.10/dist-packages (from autorom~=0.4.2->autorom[accept-rom-license]~=0.4.2; extra == \"accept-rom-license\"->gymnasium[accept-rom-license,atari]) (4.66.5)\n",
            "Collecting AutoROM.accept-rom-license (from autorom[accept-rom-license]~=0.4.2; extra == \"accept-rom-license\"->gymnasium[accept-rom-license,atari])\n",
            "  Downloading AutoROM.accept-rom-license-0.6.1.tar.gz (434 kB)\n",
            "\u001b[2K     \u001b[90m━━━━━━━━━━━━━━━━━━━━━━━━━━━━━━━━━━━━━━━━\u001b[0m \u001b[32m434.7/434.7 kB\u001b[0m \u001b[31m26.5 MB/s\u001b[0m eta \u001b[36m0:00:00\u001b[0m\n",
            "\u001b[?25h  Installing build dependencies ... \u001b[?25l\u001b[?25hdone\n",
            "  Getting requirements to build wheel ... \u001b[?25l\u001b[?25hdone\n",
            "  Preparing metadata (pyproject.toml) ... \u001b[?25l\u001b[?25hdone\n",
            "Collecting ale-py~=0.8.1 (from shimmy[atari]<1.0,>=0.1.0; extra == \"atari\"->gymnasium[accept-rom-license,atari])\n",
            "  Downloading ale_py-0.8.1-cp310-cp310-manylinux_2_17_x86_64.manylinux2014_x86_64.whl.metadata (8.1 kB)\n",
            "Requirement already satisfied: importlib-resources in /usr/local/lib/python3.10/dist-packages (from ale-py~=0.8.1->shimmy[atari]<1.0,>=0.1.0; extra == \"atari\"->gymnasium[accept-rom-license,atari]) (6.4.3)\n",
            "Requirement already satisfied: charset-normalizer<4,>=2 in /usr/local/lib/python3.10/dist-packages (from requests->autorom~=0.4.2->autorom[accept-rom-license]~=0.4.2; extra == \"accept-rom-license\"->gymnasium[accept-rom-license,atari]) (3.3.2)\n",
            "Requirement already satisfied: idna<4,>=2.5 in /usr/local/lib/python3.10/dist-packages (from requests->autorom~=0.4.2->autorom[accept-rom-license]~=0.4.2; extra == \"accept-rom-license\"->gymnasium[accept-rom-license,atari]) (3.7)\n",
            "Requirement already satisfied: urllib3<3,>=1.21.1 in /usr/local/lib/python3.10/dist-packages (from requests->autorom~=0.4.2->autorom[accept-rom-license]~=0.4.2; extra == \"accept-rom-license\"->gymnasium[accept-rom-license,atari]) (2.0.7)\n",
            "Requirement already satisfied: certifi>=2017.4.17 in /usr/local/lib/python3.10/dist-packages (from requests->autorom~=0.4.2->autorom[accept-rom-license]~=0.4.2; extra == \"accept-rom-license\"->gymnasium[accept-rom-license,atari]) (2024.7.4)\n",
            "Downloading AutoROM-0.4.2-py3-none-any.whl (16 kB)\n",
            "Downloading Shimmy-0.2.1-py3-none-any.whl (25 kB)\n",
            "Downloading ale_py-0.8.1-cp310-cp310-manylinux_2_17_x86_64.manylinux2014_x86_64.whl (1.7 MB)\n",
            "\u001b[2K   \u001b[90m━━━━━━━━━━━━━━━━━━━━━━━━━━━━━━━━━━━━━━━━\u001b[0m \u001b[32m1.7/1.7 MB\u001b[0m \u001b[31m69.4 MB/s\u001b[0m eta \u001b[36m0:00:00\u001b[0m\n",
            "\u001b[?25hBuilding wheels for collected packages: AutoROM.accept-rom-license\n",
            "  Building wheel for AutoROM.accept-rom-license (pyproject.toml) ... \u001b[?25l\u001b[?25hdone\n",
            "  Created wheel for AutoROM.accept-rom-license: filename=AutoROM.accept_rom_license-0.6.1-py3-none-any.whl size=446661 sha256=959803a4165be3d2a8d5b502ce01bae1f86b73d8f3f1da0ca69bf2319bba0592\n",
            "  Stored in directory: /root/.cache/pip/wheels/6b/1b/ef/a43ff1a2f1736d5711faa1ba4c1f61be1131b8899e6a057811\n",
            "Successfully built AutoROM.accept-rom-license\n",
            "Installing collected packages: ale-py, shimmy, AutoROM.accept-rom-license, autorom\n",
            "Successfully installed AutoROM.accept-rom-license-0.6.1 ale-py-0.8.1 autorom-0.4.2 shimmy-0.2.1\n",
            "Reading package lists... Done\n",
            "Building dependency tree... Done\n",
            "Reading state information... Done\n",
            "The following additional packages will be installed:\n",
            "  swig4.0\n",
            "Suggested packages:\n",
            "  swig-doc swig-examples swig4.0-examples swig4.0-doc\n",
            "The following NEW packages will be installed:\n",
            "  swig swig4.0\n",
            "0 upgraded, 2 newly installed, 0 to remove and 45 not upgraded.\n",
            "Need to get 1,116 kB of archives.\n",
            "After this operation, 5,542 kB of additional disk space will be used.\n",
            "Get:1 http://archive.ubuntu.com/ubuntu jammy/universe amd64 swig4.0 amd64 4.0.2-1ubuntu1 [1,110 kB]\n",
            "Get:2 http://archive.ubuntu.com/ubuntu jammy/universe amd64 swig all 4.0.2-1ubuntu1 [5,632 B]\n",
            "Fetched 1,116 kB in 2s (528 kB/s)\n",
            "Selecting previously unselected package swig4.0.\n",
            "(Reading database ... 123595 files and directories currently installed.)\n",
            "Preparing to unpack .../swig4.0_4.0.2-1ubuntu1_amd64.deb ...\n",
            "Unpacking swig4.0 (4.0.2-1ubuntu1) ...\n",
            "Selecting previously unselected package swig.\n",
            "Preparing to unpack .../swig_4.0.2-1ubuntu1_all.deb ...\n",
            "Unpacking swig (4.0.2-1ubuntu1) ...\n",
            "Setting up swig4.0 (4.0.2-1ubuntu1) ...\n",
            "Setting up swig (4.0.2-1ubuntu1) ...\n",
            "Processing triggers for man-db (2.10.2-1) ...\n",
            "Requirement already satisfied: gymnasium[box2d] in /usr/local/lib/python3.10/dist-packages (0.29.1)\n",
            "Requirement already satisfied: numpy>=1.21.0 in /usr/local/lib/python3.10/dist-packages (from gymnasium[box2d]) (1.26.4)\n",
            "Requirement already satisfied: cloudpickle>=1.2.0 in /usr/local/lib/python3.10/dist-packages (from gymnasium[box2d]) (2.2.1)\n",
            "Requirement already satisfied: typing-extensions>=4.3.0 in /usr/local/lib/python3.10/dist-packages (from gymnasium[box2d]) (4.12.2)\n",
            "Requirement already satisfied: farama-notifications>=0.0.1 in /usr/local/lib/python3.10/dist-packages (from gymnasium[box2d]) (0.0.4)\n",
            "Collecting box2d-py==2.3.5 (from gymnasium[box2d])\n",
            "  Downloading box2d-py-2.3.5.tar.gz (374 kB)\n",
            "\u001b[2K     \u001b[90m━━━━━━━━━━━━━━━━━━━━━━━━━━━━━━━━━━━━━━━━\u001b[0m \u001b[32m374.4/374.4 kB\u001b[0m \u001b[31m21.3 MB/s\u001b[0m eta \u001b[36m0:00:00\u001b[0m\n",
            "\u001b[?25h  Preparing metadata (setup.py) ... \u001b[?25l\u001b[?25hdone\n",
            "Requirement already satisfied: pygame>=2.1.3 in /usr/local/lib/python3.10/dist-packages (from gymnasium[box2d]) (2.6.0)\n",
            "Collecting swig==4.* (from gymnasium[box2d])\n",
            "  Downloading swig-4.2.1-py2.py3-none-manylinux_2_5_x86_64.manylinux1_x86_64.whl.metadata (3.6 kB)\n",
            "Downloading swig-4.2.1-py2.py3-none-manylinux_2_5_x86_64.manylinux1_x86_64.whl (1.9 MB)\n",
            "\u001b[2K   \u001b[90m━━━━━━━━━━━━━━━━━━━━━━━━━━━━━━━━━━━━━━━━\u001b[0m \u001b[32m1.9/1.9 MB\u001b[0m \u001b[31m72.2 MB/s\u001b[0m eta \u001b[36m0:00:00\u001b[0m\n",
            "\u001b[?25hBuilding wheels for collected packages: box2d-py\n",
            "  Building wheel for box2d-py (setup.py) ... \u001b[?25l\u001b[?25hdone\n",
            "  Created wheel for box2d-py: filename=box2d_py-2.3.5-cp310-cp310-linux_x86_64.whl size=2349116 sha256=5dbdcfa66da2d215a06de985b940fcd9412d28db060944a6f6300dde9bab8366\n",
            "  Stored in directory: /root/.cache/pip/wheels/db/8f/6a/eaaadf056fba10a98d986f6dce954e6201ba3126926fc5ad9e\n",
            "Successfully built box2d-py\n",
            "Installing collected packages: swig, box2d-py\n",
            "Successfully installed box2d-py-2.3.5 swig-4.2.1\n"
          ]
        }
      ],
      "source": [
        "!pip install gymnasium\n",
        "!pip install \"gymnasium[atari, accept-rom-license]\"\n",
        "!apt-get install -y swig\n",
        "!pip install gymnasium[box2d]"
      ]
    },
    {
      "cell_type": "markdown",
      "source": [
        "### Importing the libraries"
      ],
      "metadata": {
        "id": "H-wes4LZdxdd"
      }
    },
    {
      "cell_type": "code",
      "execution_count": 2,
      "metadata": {
        "id": "Ho_25-9_9qnu"
      },
      "outputs": [],
      "source": [
        "import os\n",
        "import random\n",
        "import numpy as np\n",
        "import torch\n",
        "import torch.nn as nn\n",
        "import torch.optim as optim\n",
        "import torch.nn.functional as F\n",
        "from collections import deque\n",
        "from torch.utils.data import DataLoader, TensorDataset"
      ]
    },
    {
      "cell_type": "markdown",
      "source": [
        "## Part 1 - Building the AI"
      ],
      "metadata": {
        "id": "m7wa0ft8e3M_"
      }
    },
    {
      "cell_type": "markdown",
      "source": [
        "### Creating the architecture of the Neural Network"
      ],
      "metadata": {
        "id": "dlYVpVdHe-i6"
      }
    },
    {
      "cell_type": "code",
      "source": [
        "class Network(nn.Module):\n",
        "\n",
        "  def __init__(self, action_size, seed = 42):\n",
        "    super(Network, self).__init__()\n",
        "    self.seed = torch.manual_seed(seed)\n",
        "    self.conv1 = nn.Conv2d(3, 32, kernel_size = 8, stride = 4)\n",
        "    self.bn1 = nn.BatchNorm2d(32)\n",
        "    self.conv2 = nn.Conv2d(32, 64, kernel_size = 4, stride = 2)\n",
        "    self.bn2 = nn.BatchNorm2d(64)\n",
        "    self.conv3 = nn.Conv2d(64, 64, kernel_size = 3, stride = 1)\n",
        "    self.bn3 = nn.BatchNorm2d(64)\n",
        "    self.conv4 = nn.Conv2d(64, 128, kernel_size = 3, stride = 1)\n",
        "    self.bn4 = nn.BatchNorm2d(128)\n",
        "    self.fc1 = nn.Linear(10 * 10 * 128, 512)\n",
        "    self.fc2 = nn.Linear(512, 256)\n",
        "    self.fc3 = nn.Linear(256, action_size)\n",
        "\n",
        "  def forward(self, state):\n",
        "    x = F.relu(self.bn1(self.conv1(state)))\n",
        "    x = F.relu(self.bn2(self.conv2(x)))\n",
        "    x = F.relu(self.bn3(self.conv3(x)))\n",
        "    x = F.relu(self.bn4(self.conv4(x)))\n",
        "    x = x.view(x.size(0), -1)\n",
        "    x = F.relu(self.fc1(x))\n",
        "    x = F.relu(self.fc2(x))\n",
        "    return self.fc3(x)"
      ],
      "metadata": {
        "id": "4ZW9ybp2S-op"
      },
      "execution_count": 3,
      "outputs": []
    },
    {
      "cell_type": "markdown",
      "source": [
        "## Part 2 - Training the AI"
      ],
      "metadata": {
        "id": "rUvCfE_mhwo2"
      }
    },
    {
      "cell_type": "markdown",
      "source": [
        "### Setting up the environment"
      ],
      "metadata": {
        "id": "WWCDPF22lkwc"
      }
    },
    {
      "cell_type": "code",
      "source": [
        "import gymnasium as gym\n",
        "env = gym.make('Atlantis-ramDeterministic-v0', full_action_space = False)\n",
        "state_shape = env.observation_space.shape\n",
        "state_size = env.observation_space.shape[0]\n",
        "number_actions = env.action_space.n\n",
        "print('State shape: ', state_shape)\n",
        "print('State size: ', state_size)\n",
        "print('Number of actions: ', number_actions)"
      ],
      "metadata": {
        "colab": {
          "base_uri": "https://localhost:8080/"
        },
        "id": "qYLnz2Z6PqeU",
        "outputId": "0ed921f4-0e3a-41a4-c509-f7ece6ec9e9c"
      },
      "execution_count": 4,
      "outputs": [
        {
          "output_type": "stream",
          "name": "stderr",
          "text": [
            "/usr/local/lib/python3.10/dist-packages/gymnasium/envs/registration.py:513: DeprecationWarning: \u001b[33mWARN: The environment Atlantis-ramDeterministic-v0 is out of date. You should consider upgrading to version `v4`.\u001b[0m\n",
            "  logger.deprecation(\n"
          ]
        },
        {
          "output_type": "stream",
          "name": "stdout",
          "text": [
            "State shape:  (128,)\n",
            "State size:  128\n",
            "Number of actions:  4\n"
          ]
        }
      ]
    },
    {
      "cell_type": "markdown",
      "source": [
        "### Initializing the hyperparameters"
      ],
      "metadata": {
        "id": "Bx6IdX3ciDqH"
      }
    },
    {
      "cell_type": "code",
      "source": [
        "learning_rate = 5e-4\n",
        "minibatch_size = 64\n",
        "discount_factor = 0.99"
      ],
      "metadata": {
        "id": "pQHWLxOwrb0J",
        "colab": {
          "base_uri": "https://localhost:8080/"
        },
        "outputId": "bba37202-312f-478a-d596-5a5723ecf635"
      },
      "execution_count": 5,
      "outputs": [
        {
          "output_type": "stream",
          "name": "stderr",
          "text": [
            "/usr/local/lib/python3.10/dist-packages/ipykernel/ipkernel.py:283: DeprecationWarning: `should_run_async` will not call `transform_cell` automatically in the future. Please pass the result to `transformed_cell` argument and any exception that happen during thetransform in `preprocessing_exc_tuple` in IPython 7.17 and above.\n",
            "  and should_run_async(code)\n"
          ]
        }
      ]
    },
    {
      "cell_type": "markdown",
      "source": [
        "### Preprocessing the frames"
      ],
      "metadata": {
        "id": "U2bDShIEkA5V"
      }
    },
    {
      "cell_type": "code",
      "source": [
        "from PIL import Image\n",
        "from torchvision import transforms\n",
        "\n",
        "def preprocess_frame(frame):\n",
        "    frame = Image.fromarray(frame)\n",
        "\n",
        "    # Convert grayscale image to RGB\n",
        "    if frame.mode != 'RGB':\n",
        "        frame = frame.convert('RGB')\n",
        "\n",
        "    preprocess = transforms.Compose([\n",
        "        transforms.Resize((128, 128)),\n",
        "        transforms.ToTensor()\n",
        "    ])\n",
        "\n",
        "    return preprocess(frame).unsqueeze(0)\n"
      ],
      "metadata": {
        "id": "VporQhgMDygL"
      },
      "execution_count": 6,
      "outputs": []
    },
    {
      "cell_type": "markdown",
      "source": [
        "### Implementing the DCQN class"
      ],
      "metadata": {
        "id": "imMdSO-HAWra"
      }
    },
    {
      "cell_type": "code",
      "source": [
        "class Agent():\n",
        "\n",
        "  def __init__(self, action_size):\n",
        "    self.device = torch.device(\"cuda:0\" if torch.cuda.is_available() else \"cpu\")\n",
        "    self.action_size = action_size\n",
        "    self.local_qnetwork = Network(action_size).to(self.device)\n",
        "    self.target_qnetwork = Network(action_size).to(self.device)\n",
        "    self.optimizer = optim.Adam(self.local_qnetwork.parameters(), lr = learning_rate)\n",
        "    self.memory = deque(maxlen = 10000)\n",
        "\n",
        "  def step(self, state, action, reward, next_state, done):\n",
        "    state = preprocess_frame(state)\n",
        "    next_state = preprocess_frame(next_state)\n",
        "    self.memory.append((state, action, reward, next_state, done))\n",
        "    if len(self.memory) > minibatch_size:\n",
        "      experiences = random.sample(self.memory, k = minibatch_size)\n",
        "      self.learn(experiences, discount_factor)\n",
        "\n",
        "  def act(self, state, epsilon = 0.):\n",
        "    state = preprocess_frame(state).to(self.device)\n",
        "    self.local_qnetwork.eval()\n",
        "    with torch.no_grad():\n",
        "      action_values = self.local_qnetwork(state)\n",
        "    self.local_qnetwork.train()\n",
        "    if random.random() > epsilon:\n",
        "      return np.argmax(action_values.cpu().data.numpy())\n",
        "    else:\n",
        "      return random.choice(np.arange(self.action_size))\n",
        "\n",
        "  def learn(self, experiences, discount_factor):\n",
        "    states, actions, rewards, next_states, dones = zip(*experiences)\n",
        "    states = torch.from_numpy(np.vstack(states)).float().to(self.device)\n",
        "    actions = torch.from_numpy(np.vstack(actions)).long().to(self.device)\n",
        "    rewards = torch.from_numpy(np.vstack(rewards)).float().to(self.device)\n",
        "    next_states = torch.from_numpy(np.vstack(next_states)).float().to(self.device)\n",
        "    dones = torch.from_numpy(np.vstack(dones).astype(np.uint8)).float().to(self.device)\n",
        "    next_q_targets = self.target_qnetwork(next_states).detach().max(1)[0].unsqueeze(1)\n",
        "    q_targets = rewards + discount_factor * next_q_targets * (1 - dones)\n",
        "    q_expected = self.local_qnetwork(states).gather(1, actions)\n",
        "    loss = F.mse_loss(q_expected, q_targets)\n",
        "    self.optimizer.zero_grad()\n",
        "    loss.backward()\n",
        "    self.optimizer.step()"
      ],
      "metadata": {
        "id": "N7dwS2q2wupJ"
      },
      "execution_count": 7,
      "outputs": []
    },
    {
      "cell_type": "markdown",
      "source": [
        "### Initializing the DCQN agent"
      ],
      "metadata": {
        "id": "yUg95iBpAwII"
      }
    },
    {
      "cell_type": "code",
      "source": [
        "agent = Agent(number_actions)"
      ],
      "metadata": {
        "id": "eJJB1Gr6IKnC"
      },
      "execution_count": 8,
      "outputs": []
    },
    {
      "cell_type": "markdown",
      "source": [
        "### Training the DCQN agent"
      ],
      "metadata": {
        "id": "CK6Zt_gNmHvm"
      }
    },
    {
      "cell_type": "code",
      "source": [
        "number_episodes = 2000\n",
        "maximum_number_timesteps_per_episode = 10000\n",
        "epsilon_starting_value  = 1.0\n",
        "epsilon_ending_value  = 0.01\n",
        "epsilon_decay_value  = 0.995\n",
        "epsilon = epsilon_starting_value\n",
        "scores_on_100_episodes = deque(maxlen = 100)\n",
        "\n",
        "for episode in range(1, number_episodes + 1):\n",
        "  state, _ = env.reset()\n",
        "  score = 0\n",
        "  for t in range(maximum_number_timesteps_per_episode):\n",
        "    action = agent.act(state, epsilon)\n",
        "    next_state, reward, done, _, _ = env.step(action)\n",
        "    agent.step(state, action, reward, next_state, done)\n",
        "    state = next_state\n",
        "    score += reward\n",
        "    if done:\n",
        "      break\n",
        "  scores_on_100_episodes.append(score)\n",
        "  epsilon = max(epsilon_ending_value, epsilon_decay_value * epsilon)\n",
        "  print('\\rEpisode {}\\tAverage Score: {:.2f}'.format(episode, np.mean(scores_on_100_episodes)), end = \"\")\n",
        "  if episode % 100 == 0:\n",
        "    print('\\rEpisode {}\\tAverage Score: {:.2f}'.format(episode, np.mean(scores_on_100_episodes)))\n",
        "  if np.mean(scores_on_100_episodes) >= 100000.0:\n",
        "    solved_episodes = max(episode - 100, 1)\n",
        "    print('\\nEnvironment solved in {:d} episodes!\\tAverage Score: {:.2f}'.format(solved_episodes, np.mean(scores_on_100_episodes)))\n",
        "    torch.save(agent.local_qnetwork.state_dict(), 'checkpoint.pth')\n",
        "    break\n"
      ],
      "metadata": {
        "id": "XvBh4TLjIfz2",
        "colab": {
          "base_uri": "https://localhost:8080/",
          "height": 373
        },
        "outputId": "d5dc40f8-dedf-4c64-ef50-645603e0f3fd"
      },
      "execution_count": 10,
      "outputs": [
        {
          "output_type": "stream",
          "name": "stdout",
          "text": [
            "Episode 48\tAverage Score: 17427.08"
          ]
        },
        {
          "output_type": "error",
          "ename": "KeyboardInterrupt",
          "evalue": "",
          "traceback": [
            "\u001b[0;31m---------------------------------------------------------------------------\u001b[0m",
            "\u001b[0;31mKeyboardInterrupt\u001b[0m                         Traceback (most recent call last)",
            "\u001b[0;32m<ipython-input-10-0c677ee160ab>\u001b[0m in \u001b[0;36m<cell line: 9>\u001b[0;34m()\u001b[0m\n\u001b[1;32m     13\u001b[0m     \u001b[0maction\u001b[0m \u001b[0;34m=\u001b[0m \u001b[0magent\u001b[0m\u001b[0;34m.\u001b[0m\u001b[0mact\u001b[0m\u001b[0;34m(\u001b[0m\u001b[0mstate\u001b[0m\u001b[0;34m,\u001b[0m \u001b[0mepsilon\u001b[0m\u001b[0;34m)\u001b[0m\u001b[0;34m\u001b[0m\u001b[0;34m\u001b[0m\u001b[0m\n\u001b[1;32m     14\u001b[0m     \u001b[0mnext_state\u001b[0m\u001b[0;34m,\u001b[0m \u001b[0mreward\u001b[0m\u001b[0;34m,\u001b[0m \u001b[0mdone\u001b[0m\u001b[0;34m,\u001b[0m \u001b[0m_\u001b[0m\u001b[0;34m,\u001b[0m \u001b[0m_\u001b[0m \u001b[0;34m=\u001b[0m \u001b[0menv\u001b[0m\u001b[0;34m.\u001b[0m\u001b[0mstep\u001b[0m\u001b[0;34m(\u001b[0m\u001b[0maction\u001b[0m\u001b[0;34m)\u001b[0m\u001b[0;34m\u001b[0m\u001b[0;34m\u001b[0m\u001b[0m\n\u001b[0;32m---> 15\u001b[0;31m     \u001b[0magent\u001b[0m\u001b[0;34m.\u001b[0m\u001b[0mstep\u001b[0m\u001b[0;34m(\u001b[0m\u001b[0mstate\u001b[0m\u001b[0;34m,\u001b[0m \u001b[0maction\u001b[0m\u001b[0;34m,\u001b[0m \u001b[0mreward\u001b[0m\u001b[0;34m,\u001b[0m \u001b[0mnext_state\u001b[0m\u001b[0;34m,\u001b[0m \u001b[0mdone\u001b[0m\u001b[0;34m)\u001b[0m\u001b[0;34m\u001b[0m\u001b[0;34m\u001b[0m\u001b[0m\n\u001b[0m\u001b[1;32m     16\u001b[0m     \u001b[0mstate\u001b[0m \u001b[0;34m=\u001b[0m \u001b[0mnext_state\u001b[0m\u001b[0;34m\u001b[0m\u001b[0;34m\u001b[0m\u001b[0m\n\u001b[1;32m     17\u001b[0m     \u001b[0mscore\u001b[0m \u001b[0;34m+=\u001b[0m \u001b[0mreward\u001b[0m\u001b[0;34m\u001b[0m\u001b[0;34m\u001b[0m\u001b[0m\n",
            "\u001b[0;32m<ipython-input-7-6fc6666f3ad6>\u001b[0m in \u001b[0;36mstep\u001b[0;34m(self, state, action, reward, next_state, done)\u001b[0m\n\u001b[1;32m     15\u001b[0m     \u001b[0;32mif\u001b[0m \u001b[0mlen\u001b[0m\u001b[0;34m(\u001b[0m\u001b[0mself\u001b[0m\u001b[0;34m.\u001b[0m\u001b[0mmemory\u001b[0m\u001b[0;34m)\u001b[0m \u001b[0;34m>\u001b[0m \u001b[0mminibatch_size\u001b[0m\u001b[0;34m:\u001b[0m\u001b[0;34m\u001b[0m\u001b[0;34m\u001b[0m\u001b[0m\n\u001b[1;32m     16\u001b[0m       \u001b[0mexperiences\u001b[0m \u001b[0;34m=\u001b[0m \u001b[0mrandom\u001b[0m\u001b[0;34m.\u001b[0m\u001b[0msample\u001b[0m\u001b[0;34m(\u001b[0m\u001b[0mself\u001b[0m\u001b[0;34m.\u001b[0m\u001b[0mmemory\u001b[0m\u001b[0;34m,\u001b[0m \u001b[0mk\u001b[0m \u001b[0;34m=\u001b[0m \u001b[0mminibatch_size\u001b[0m\u001b[0;34m)\u001b[0m\u001b[0;34m\u001b[0m\u001b[0;34m\u001b[0m\u001b[0m\n\u001b[0;32m---> 17\u001b[0;31m       \u001b[0mself\u001b[0m\u001b[0;34m.\u001b[0m\u001b[0mlearn\u001b[0m\u001b[0;34m(\u001b[0m\u001b[0mexperiences\u001b[0m\u001b[0;34m,\u001b[0m \u001b[0mdiscount_factor\u001b[0m\u001b[0;34m)\u001b[0m\u001b[0;34m\u001b[0m\u001b[0;34m\u001b[0m\u001b[0m\n\u001b[0m\u001b[1;32m     18\u001b[0m \u001b[0;34m\u001b[0m\u001b[0m\n\u001b[1;32m     19\u001b[0m   \u001b[0;32mdef\u001b[0m \u001b[0mact\u001b[0m\u001b[0;34m(\u001b[0m\u001b[0mself\u001b[0m\u001b[0;34m,\u001b[0m \u001b[0mstate\u001b[0m\u001b[0;34m,\u001b[0m \u001b[0mepsilon\u001b[0m \u001b[0;34m=\u001b[0m \u001b[0;36m0.\u001b[0m\u001b[0;34m)\u001b[0m\u001b[0;34m:\u001b[0m\u001b[0;34m\u001b[0m\u001b[0;34m\u001b[0m\u001b[0m\n",
            "\u001b[0;32m<ipython-input-7-6fc6666f3ad6>\u001b[0m in \u001b[0;36mlearn\u001b[0;34m(self, experiences, discount_factor)\u001b[0m\n\u001b[1;32m     41\u001b[0m     \u001b[0mself\u001b[0m\u001b[0;34m.\u001b[0m\u001b[0moptimizer\u001b[0m\u001b[0;34m.\u001b[0m\u001b[0mzero_grad\u001b[0m\u001b[0;34m(\u001b[0m\u001b[0;34m)\u001b[0m\u001b[0;34m\u001b[0m\u001b[0;34m\u001b[0m\u001b[0m\n\u001b[1;32m     42\u001b[0m     \u001b[0mloss\u001b[0m\u001b[0;34m.\u001b[0m\u001b[0mbackward\u001b[0m\u001b[0;34m(\u001b[0m\u001b[0;34m)\u001b[0m\u001b[0;34m\u001b[0m\u001b[0;34m\u001b[0m\u001b[0m\n\u001b[0;32m---> 43\u001b[0;31m     \u001b[0mself\u001b[0m\u001b[0;34m.\u001b[0m\u001b[0moptimizer\u001b[0m\u001b[0;34m.\u001b[0m\u001b[0mstep\u001b[0m\u001b[0;34m(\u001b[0m\u001b[0;34m)\u001b[0m\u001b[0;34m\u001b[0m\u001b[0;34m\u001b[0m\u001b[0m\n\u001b[0m",
            "\u001b[0;32m/usr/local/lib/python3.10/dist-packages/torch/optim/optimizer.py\u001b[0m in \u001b[0;36mwrapper\u001b[0;34m(*args, **kwargs)\u001b[0m\n\u001b[1;32m    389\u001b[0m                             )\n\u001b[1;32m    390\u001b[0m \u001b[0;34m\u001b[0m\u001b[0m\n\u001b[0;32m--> 391\u001b[0;31m                 \u001b[0mout\u001b[0m \u001b[0;34m=\u001b[0m \u001b[0mfunc\u001b[0m\u001b[0;34m(\u001b[0m\u001b[0;34m*\u001b[0m\u001b[0margs\u001b[0m\u001b[0;34m,\u001b[0m \u001b[0;34m**\u001b[0m\u001b[0mkwargs\u001b[0m\u001b[0;34m)\u001b[0m\u001b[0;34m\u001b[0m\u001b[0;34m\u001b[0m\u001b[0m\n\u001b[0m\u001b[1;32m    392\u001b[0m                 \u001b[0mself\u001b[0m\u001b[0;34m.\u001b[0m\u001b[0m_optimizer_step_code\u001b[0m\u001b[0;34m(\u001b[0m\u001b[0;34m)\u001b[0m\u001b[0;34m\u001b[0m\u001b[0;34m\u001b[0m\u001b[0m\n\u001b[1;32m    393\u001b[0m \u001b[0;34m\u001b[0m\u001b[0m\n",
            "\u001b[0;32m/usr/local/lib/python3.10/dist-packages/torch/optim/optimizer.py\u001b[0m in \u001b[0;36m_use_grad\u001b[0;34m(self, *args, **kwargs)\u001b[0m\n\u001b[1;32m     74\u001b[0m             \u001b[0mtorch\u001b[0m\u001b[0;34m.\u001b[0m\u001b[0mset_grad_enabled\u001b[0m\u001b[0;34m(\u001b[0m\u001b[0mself\u001b[0m\u001b[0;34m.\u001b[0m\u001b[0mdefaults\u001b[0m\u001b[0;34m[\u001b[0m\u001b[0;34m'differentiable'\u001b[0m\u001b[0;34m]\u001b[0m\u001b[0;34m)\u001b[0m\u001b[0;34m\u001b[0m\u001b[0;34m\u001b[0m\u001b[0m\n\u001b[1;32m     75\u001b[0m             \u001b[0mtorch\u001b[0m\u001b[0;34m.\u001b[0m\u001b[0m_dynamo\u001b[0m\u001b[0;34m.\u001b[0m\u001b[0mgraph_break\u001b[0m\u001b[0;34m(\u001b[0m\u001b[0;34m)\u001b[0m\u001b[0;34m\u001b[0m\u001b[0;34m\u001b[0m\u001b[0m\n\u001b[0;32m---> 76\u001b[0;31m             \u001b[0mret\u001b[0m \u001b[0;34m=\u001b[0m \u001b[0mfunc\u001b[0m\u001b[0;34m(\u001b[0m\u001b[0mself\u001b[0m\u001b[0;34m,\u001b[0m \u001b[0;34m*\u001b[0m\u001b[0margs\u001b[0m\u001b[0;34m,\u001b[0m \u001b[0;34m**\u001b[0m\u001b[0mkwargs\u001b[0m\u001b[0;34m)\u001b[0m\u001b[0;34m\u001b[0m\u001b[0;34m\u001b[0m\u001b[0m\n\u001b[0m\u001b[1;32m     77\u001b[0m         \u001b[0;32mfinally\u001b[0m\u001b[0;34m:\u001b[0m\u001b[0;34m\u001b[0m\u001b[0;34m\u001b[0m\u001b[0m\n\u001b[1;32m     78\u001b[0m             \u001b[0mtorch\u001b[0m\u001b[0;34m.\u001b[0m\u001b[0m_dynamo\u001b[0m\u001b[0;34m.\u001b[0m\u001b[0mgraph_break\u001b[0m\u001b[0;34m(\u001b[0m\u001b[0;34m)\u001b[0m\u001b[0;34m\u001b[0m\u001b[0;34m\u001b[0m\u001b[0m\n",
            "\u001b[0;32m/usr/local/lib/python3.10/dist-packages/torch/optim/adam.py\u001b[0m in \u001b[0;36mstep\u001b[0;34m(self, closure)\u001b[0m\n\u001b[1;32m    166\u001b[0m                 state_steps)\n\u001b[1;32m    167\u001b[0m \u001b[0;34m\u001b[0m\u001b[0m\n\u001b[0;32m--> 168\u001b[0;31m             adam(\n\u001b[0m\u001b[1;32m    169\u001b[0m                 \u001b[0mparams_with_grad\u001b[0m\u001b[0;34m,\u001b[0m\u001b[0;34m\u001b[0m\u001b[0;34m\u001b[0m\u001b[0m\n\u001b[1;32m    170\u001b[0m                 \u001b[0mgrads\u001b[0m\u001b[0;34m,\u001b[0m\u001b[0;34m\u001b[0m\u001b[0;34m\u001b[0m\u001b[0m\n",
            "\u001b[0;32m/usr/local/lib/python3.10/dist-packages/torch/optim/adam.py\u001b[0m in \u001b[0;36madam\u001b[0;34m(params, grads, exp_avgs, exp_avg_sqs, max_exp_avg_sqs, state_steps, foreach, capturable, differentiable, fused, grad_scale, found_inf, has_complex, amsgrad, beta1, beta2, lr, weight_decay, eps, maximize)\u001b[0m\n\u001b[1;32m    316\u001b[0m         \u001b[0mfunc\u001b[0m \u001b[0;34m=\u001b[0m \u001b[0m_single_tensor_adam\u001b[0m\u001b[0;34m\u001b[0m\u001b[0;34m\u001b[0m\u001b[0m\n\u001b[1;32m    317\u001b[0m \u001b[0;34m\u001b[0m\u001b[0m\n\u001b[0;32m--> 318\u001b[0;31m     func(params,\n\u001b[0m\u001b[1;32m    319\u001b[0m          \u001b[0mgrads\u001b[0m\u001b[0;34m,\u001b[0m\u001b[0;34m\u001b[0m\u001b[0;34m\u001b[0m\u001b[0m\n\u001b[1;32m    320\u001b[0m          \u001b[0mexp_avgs\u001b[0m\u001b[0;34m,\u001b[0m\u001b[0;34m\u001b[0m\u001b[0;34m\u001b[0m\u001b[0m\n",
            "\u001b[0;32m/usr/local/lib/python3.10/dist-packages/torch/optim/adam.py\u001b[0m in \u001b[0;36m_multi_tensor_adam\u001b[0;34m(params, grads, exp_avgs, exp_avg_sqs, max_exp_avg_sqs, state_steps, grad_scale, found_inf, amsgrad, has_complex, beta1, beta2, lr, weight_decay, eps, maximize, capturable, differentiable)\u001b[0m\n\u001b[1;32m    566\u001b[0m         \u001b[0;32melse\u001b[0m\u001b[0;34m:\u001b[0m\u001b[0;34m\u001b[0m\u001b[0;34m\u001b[0m\u001b[0m\n\u001b[1;32m    567\u001b[0m             \u001b[0mbias_correction1\u001b[0m \u001b[0;34m=\u001b[0m \u001b[0;34m[\u001b[0m\u001b[0;36m1\u001b[0m \u001b[0;34m-\u001b[0m \u001b[0mbeta1\u001b[0m \u001b[0;34m**\u001b[0m \u001b[0m_get_value\u001b[0m\u001b[0;34m(\u001b[0m\u001b[0mstep\u001b[0m\u001b[0;34m)\u001b[0m \u001b[0;32mfor\u001b[0m \u001b[0mstep\u001b[0m \u001b[0;32min\u001b[0m \u001b[0mdevice_state_steps\u001b[0m\u001b[0;34m]\u001b[0m\u001b[0;34m\u001b[0m\u001b[0;34m\u001b[0m\u001b[0m\n\u001b[0;32m--> 568\u001b[0;31m             \u001b[0mbias_correction2\u001b[0m \u001b[0;34m=\u001b[0m \u001b[0;34m[\u001b[0m\u001b[0;36m1\u001b[0m \u001b[0;34m-\u001b[0m \u001b[0mbeta2\u001b[0m \u001b[0;34m**\u001b[0m \u001b[0m_get_value\u001b[0m\u001b[0;34m(\u001b[0m\u001b[0mstep\u001b[0m\u001b[0;34m)\u001b[0m \u001b[0;32mfor\u001b[0m \u001b[0mstep\u001b[0m \u001b[0;32min\u001b[0m \u001b[0mdevice_state_steps\u001b[0m\u001b[0;34m]\u001b[0m\u001b[0;34m\u001b[0m\u001b[0;34m\u001b[0m\u001b[0m\n\u001b[0m\u001b[1;32m    569\u001b[0m \u001b[0;34m\u001b[0m\u001b[0m\n\u001b[1;32m    570\u001b[0m             \u001b[0mstep_size\u001b[0m \u001b[0;34m=\u001b[0m \u001b[0m_stack_if_compiling\u001b[0m\u001b[0;34m(\u001b[0m\u001b[0;34m[\u001b[0m\u001b[0;34m(\u001b[0m\u001b[0mlr\u001b[0m \u001b[0;34m/\u001b[0m \u001b[0mbc\u001b[0m\u001b[0;34m)\u001b[0m \u001b[0;34m*\u001b[0m \u001b[0;34m-\u001b[0m\u001b[0;36m1\u001b[0m \u001b[0;32mfor\u001b[0m \u001b[0mbc\u001b[0m \u001b[0;32min\u001b[0m \u001b[0mbias_correction1\u001b[0m\u001b[0;34m]\u001b[0m\u001b[0;34m)\u001b[0m\u001b[0;34m\u001b[0m\u001b[0;34m\u001b[0m\u001b[0m\n",
            "\u001b[0;32m/usr/local/lib/python3.10/dist-packages/torch/optim/adam.py\u001b[0m in \u001b[0;36m<listcomp>\u001b[0;34m(.0)\u001b[0m\n\u001b[1;32m    566\u001b[0m         \u001b[0;32melse\u001b[0m\u001b[0;34m:\u001b[0m\u001b[0;34m\u001b[0m\u001b[0;34m\u001b[0m\u001b[0m\n\u001b[1;32m    567\u001b[0m             \u001b[0mbias_correction1\u001b[0m \u001b[0;34m=\u001b[0m \u001b[0;34m[\u001b[0m\u001b[0;36m1\u001b[0m \u001b[0;34m-\u001b[0m \u001b[0mbeta1\u001b[0m \u001b[0;34m**\u001b[0m \u001b[0m_get_value\u001b[0m\u001b[0;34m(\u001b[0m\u001b[0mstep\u001b[0m\u001b[0;34m)\u001b[0m \u001b[0;32mfor\u001b[0m \u001b[0mstep\u001b[0m \u001b[0;32min\u001b[0m \u001b[0mdevice_state_steps\u001b[0m\u001b[0;34m]\u001b[0m\u001b[0;34m\u001b[0m\u001b[0;34m\u001b[0m\u001b[0m\n\u001b[0;32m--> 568\u001b[0;31m             \u001b[0mbias_correction2\u001b[0m \u001b[0;34m=\u001b[0m \u001b[0;34m[\u001b[0m\u001b[0;36m1\u001b[0m \u001b[0;34m-\u001b[0m \u001b[0mbeta2\u001b[0m \u001b[0;34m**\u001b[0m \u001b[0m_get_value\u001b[0m\u001b[0;34m(\u001b[0m\u001b[0mstep\u001b[0m\u001b[0;34m)\u001b[0m \u001b[0;32mfor\u001b[0m \u001b[0mstep\u001b[0m \u001b[0;32min\u001b[0m \u001b[0mdevice_state_steps\u001b[0m\u001b[0;34m]\u001b[0m\u001b[0;34m\u001b[0m\u001b[0;34m\u001b[0m\u001b[0m\n\u001b[0m\u001b[1;32m    569\u001b[0m \u001b[0;34m\u001b[0m\u001b[0m\n\u001b[1;32m    570\u001b[0m             \u001b[0mstep_size\u001b[0m \u001b[0;34m=\u001b[0m \u001b[0m_stack_if_compiling\u001b[0m\u001b[0;34m(\u001b[0m\u001b[0;34m[\u001b[0m\u001b[0;34m(\u001b[0m\u001b[0mlr\u001b[0m \u001b[0;34m/\u001b[0m \u001b[0mbc\u001b[0m\u001b[0;34m)\u001b[0m \u001b[0;34m*\u001b[0m \u001b[0;34m-\u001b[0m\u001b[0;36m1\u001b[0m \u001b[0;32mfor\u001b[0m \u001b[0mbc\u001b[0m \u001b[0;32min\u001b[0m \u001b[0mbias_correction1\u001b[0m\u001b[0;34m]\u001b[0m\u001b[0;34m)\u001b[0m\u001b[0;34m\u001b[0m\u001b[0;34m\u001b[0m\u001b[0m\n",
            "\u001b[0;32m/usr/local/lib/python3.10/dist-packages/torch/optim/optimizer.py\u001b[0m in \u001b[0;36m_get_value\u001b[0;34m(x)\u001b[0m\n\u001b[1;32m     84\u001b[0m \u001b[0;32mdef\u001b[0m \u001b[0m_get_value\u001b[0m\u001b[0;34m(\u001b[0m\u001b[0mx\u001b[0m\u001b[0;34m)\u001b[0m\u001b[0;34m:\u001b[0m\u001b[0;34m\u001b[0m\u001b[0;34m\u001b[0m\u001b[0m\n\u001b[1;32m     85\u001b[0m     \u001b[0;31m# item is significantly faster than a cpu tensor in eager mode\u001b[0m\u001b[0;34m\u001b[0m\u001b[0;34m\u001b[0m\u001b[0m\n\u001b[0;32m---> 86\u001b[0;31m     \u001b[0;32mif\u001b[0m \u001b[0;32mnot\u001b[0m \u001b[0mtorch\u001b[0m\u001b[0;34m.\u001b[0m\u001b[0mjit\u001b[0m\u001b[0;34m.\u001b[0m\u001b[0mis_scripting\u001b[0m\u001b[0;34m(\u001b[0m\u001b[0;34m)\u001b[0m \u001b[0;32mand\u001b[0m \u001b[0mis_compiling\u001b[0m\u001b[0;34m(\u001b[0m\u001b[0;34m)\u001b[0m\u001b[0;34m:\u001b[0m\u001b[0;34m\u001b[0m\u001b[0;34m\u001b[0m\u001b[0m\n\u001b[0m\u001b[1;32m     87\u001b[0m         \u001b[0;32mreturn\u001b[0m \u001b[0mx\u001b[0m\u001b[0;34m\u001b[0m\u001b[0;34m\u001b[0m\u001b[0m\n\u001b[1;32m     88\u001b[0m     \u001b[0;32melse\u001b[0m\u001b[0;34m:\u001b[0m\u001b[0;34m\u001b[0m\u001b[0;34m\u001b[0m\u001b[0m\n",
            "\u001b[0;32m/usr/local/lib/python3.10/dist-packages/torch/_utils.py\u001b[0m in \u001b[0;36mis_compiling\u001b[0;34m()\u001b[0m\n\u001b[1;32m    849\u001b[0m \u001b[0;34m\u001b[0m\u001b[0m\n\u001b[1;32m    850\u001b[0m \u001b[0;34m\u001b[0m\u001b[0m\n\u001b[0;32m--> 851\u001b[0;31m \u001b[0;32mdef\u001b[0m \u001b[0mis_compiling\u001b[0m\u001b[0;34m(\u001b[0m\u001b[0;34m)\u001b[0m \u001b[0;34m->\u001b[0m \u001b[0mbool\u001b[0m\u001b[0;34m:\u001b[0m\u001b[0;34m\u001b[0m\u001b[0;34m\u001b[0m\u001b[0m\n\u001b[0m\u001b[1;32m    852\u001b[0m     \"\"\"\n\u001b[1;32m    853\u001b[0m     \u001b[0mIndicates\u001b[0m \u001b[0mwhether\u001b[0m \u001b[0mwe\u001b[0m \u001b[0mare\u001b[0m \u001b[0mtracing\u001b[0m\u001b[0;34m/\u001b[0m\u001b[0mcompiling\u001b[0m \u001b[0;32mwith\u001b[0m \u001b[0mtorch\u001b[0m\u001b[0;34m.\u001b[0m\u001b[0mcompile\u001b[0m\u001b[0;34m(\u001b[0m\u001b[0;34m)\u001b[0m \u001b[0;32mor\u001b[0m \u001b[0mtorch\u001b[0m\u001b[0;34m.\u001b[0m\u001b[0mexport\u001b[0m\u001b[0;34m(\u001b[0m\u001b[0;34m)\u001b[0m\u001b[0;34m.\u001b[0m\u001b[0;34m\u001b[0m\u001b[0;34m\u001b[0m\u001b[0m\n",
            "\u001b[0;31mKeyboardInterrupt\u001b[0m: "
          ]
        }
      ]
    },
    {
      "cell_type": "code",
      "source": [
        "scores_on_100_episodes.append(score)\n",
        "epsilon = max(epsilon_ending_value, epsilon_decay_value * epsilon)\n",
        "print('\\rEpisode {}\\tAverage Score: {:.2f}'.format(episode, np.mean(scores_on_100_episodes)), end = \"\")\n",
        "if episode % 100 == 0:\n",
        "  print('\\rEpisode {}\\tAverage Score: {:.2f}'.format(episode, np.mean(scores_on_100_episodes)))\n",
        "if np.mean(scores_on_100_episodes) >= 10000.0:\n",
        "  solved_episodes = max(episode - 100, 1)\n",
        "  print('\\nEnvironment solved in {:d} episodes!\\tAverage Score: {:.2f}'.format(solved_episodes, np.mean(scores_on_100_episodes)))\n",
        "  torch.save(agent.local_qnetwork.state_dict(), 'checkpoint1.pth')"
      ],
      "metadata": {
        "colab": {
          "base_uri": "https://localhost:8080/"
        },
        "id": "DYUhLTsQ27dy",
        "outputId": "d9116679-e94e-47f9-ad4f-e32e6c73a084"
      },
      "execution_count": 13,
      "outputs": [
        {
          "output_type": "stream",
          "name": "stdout",
          "text": [
            "\rEpisode 49\tAverage Score: 16746.00\n",
            "Environment solved in 1 episodes!\tAverage Score: 16746.00\n"
          ]
        }
      ]
    },
    {
      "cell_type": "markdown",
      "source": [
        "## Part 3 - Visualizing the results"
      ],
      "metadata": {
        "id": "-0WhhBV8nQdf"
      }
    },
    {
      "cell_type": "code",
      "execution_count": 15,
      "metadata": {
        "id": "cb9nVvU2Okhk",
        "colab": {
          "base_uri": "https://localhost:8080/",
          "height": 494
        },
        "outputId": "81b6d939-96e3-4fa9-a89f-59f12d185a35"
      },
      "outputs": [
        {
          "output_type": "stream",
          "name": "stderr",
          "text": [
            "/usr/local/lib/python3.10/dist-packages/gymnasium/envs/registration.py:513: DeprecationWarning: \u001b[33mWARN: The environment Atlantis-ramDeterministic-v0 is out of date. You should consider upgrading to version `v4`.\u001b[0m\n",
            "  logger.deprecation(\n",
            "WARNING:imageio_ffmpeg:IMAGEIO FFMPEG_WRITER WARNING: input image is not divisible by macro_block_size=16, resizing from (160, 210) to (160, 224) to ensure video compatibility with most codecs and players. To prevent resizing, make your input image divisible by the macro_block_size or set the macro_block_size to 1 (risking incompatibility).\n"
          ]
        },
        {
          "output_type": "display_data",
          "data": {
            "text/plain": [
              "<IPython.core.display.HTML object>"
            ],
            "text/html": [
              "<video alt=\"test\" autoplay\n",
              "                loop controls style=\"height: 400px;\">\n",
              "                <source src=\"data:video/mp4;base64,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\" type=\"video/mp4\" />\n",
              "             </video>"
            ]
          },
          "metadata": {}
        }
      ],
      "source": [
        "import glob\n",
        "import io\n",
        "import base64\n",
        "import imageio\n",
        "from IPython.display import HTML, display\n",
        "from gym.wrappers.monitoring.video_recorder import VideoRecorder\n",
        "\n",
        "def show_video_of_model(agent, env_name):\n",
        "    env = gym.make(env_name, render_mode='rgb_array')\n",
        "    state, _ = env.reset()\n",
        "    done = False\n",
        "    frames = []\n",
        "    while not done:\n",
        "        frame = env.render()\n",
        "        frames.append(frame)\n",
        "        action = agent.act(state)\n",
        "        state, reward, done, _, _ = env.step(action)\n",
        "    env.close()\n",
        "    imageio.mimsave('video.mp4', frames, fps=30)\n",
        "\n",
        "show_video_of_model(agent, 'Atlantis-ramDeterministic-v0')\n",
        "\n",
        "def show_video():\n",
        "    mp4list = glob.glob('*.mp4')\n",
        "    if len(mp4list) > 0:\n",
        "        mp4 = mp4list[0]\n",
        "        video = io.open(mp4, 'r+b').read()\n",
        "        encoded = base64.b64encode(video)\n",
        "        display(HTML(data='''<video alt=\"test\" autoplay\n",
        "                loop controls style=\"height: 400px;\">\n",
        "                <source src=\"data:video/mp4;base64,{0}\" type=\"video/mp4\" />\n",
        "             </video>'''.format(encoded.decode('ascii'))))\n",
        "    else:\n",
        "        print(\"Could not find video\")\n",
        "\n",
        "show_video()"
      ]
    }
  ],
  "metadata": {
    "colab": {
      "provenance": [],
      "gpuType": "T4",
      "include_colab_link": true
    },
    "kernelspec": {
      "display_name": "Python 3",
      "name": "python3"
    },
    "language_info": {
      "name": "python"
    },
    "accelerator": "GPU"
  },
  "nbformat": 4,
  "nbformat_minor": 0
}
